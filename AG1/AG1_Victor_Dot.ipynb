{
  "nbformat": 4,
  "nbformat_minor": 0,
  "metadata": {
    "colab": {
      "name": "AG1-Victor_Dot.ipynb",
      "version": "0.3.2",
      "provenance": [],
      "include_colab_link": true
    },
    "kernelspec": {
      "name": "python3",
      "display_name": "Python 3"
    }
  },
  "cells": [
    {
      "cell_type": "markdown",
      "metadata": {
        "id": "view-in-github",
        "colab_type": "text"
      },
      "source": [
        "<a href=\"https://colab.research.google.com/github/victordotm/03MAIR-Algoritmos-de-optimizacion/blob/master/AG1/AG1_Victor_Dot.ipynb\" target=\"_parent\"><img src=\"https://colab.research.google.com/assets/colab-badge.svg\" alt=\"Open In Colab\"/></a>"
      ]
    },
    {
      "metadata": {
        "id": "3214cltGaxwf",
        "colab_type": "text"
      },
      "cell_type": "markdown",
      "source": [
        "AG - Actividad Guiada 1<br>\n",
        "Victor Dot<br>\n",
        "https://github.com/victordotm/03MAIR-Algoritmos-de-optimizacion/tree/master/AG1\n"
      ]
    },
    {
      "metadata": {
        "id": "COdXvoz6b_zA",
        "colab_type": "code",
        "colab": {
          "base_uri": "https://localhost:8080/",
          "height": 50
        },
        "outputId": "3926fdf3-45a9-46c3-eb22-4170b567d472"
      },
      "cell_type": "code",
      "source": [
        "#quick_sort\n",
        "\n",
        "A = [9187, 244, 4054, 9222, 8373, 4993, 5265, 5470, 4519, 7182, 2035, 3506, 4337, 7580, 2554, 2824, 8357, 4447, 7379]\n",
        "\n",
        "def quick_sort(A):\n",
        "  if len(A) == 1:\n",
        "    return A\n",
        "  if len(A) == 2:\n",
        "    return[min(A), max(A)]\n",
        "  \n",
        "  pivote = (A[0] + A[1] + A[2])/3\n",
        "\n",
        "  IZQ=[]\n",
        "  DER=[]\n",
        "  \n",
        "  for i in A:\n",
        "    if i<pivote:\n",
        "      IZQ.append(i)\n",
        "    else:\n",
        "      DER.append(i)\n",
        "   \n",
        "  return quick_sort(IZQ) + quick_sort(DER)\n",
        "\n",
        "quick_sort(A)\n",
        "\n",
        "@calcular_tiempo\n",
        "def QS(A):\n",
        "  return quick_sort(A)\n",
        "\n",
        "print(QS(A))"
      ],
      "execution_count": 14,
      "outputs": [
        {
          "output_type": "stream",
          "text": [
            "Tiempo de ejecución para algoritmo: 2.9325485229492188e-05\n",
            "[244, 2035, 2554, 2824, 3506, 4054, 4337, 4447, 4519, 4993, 5265, 5470, 7182, 7379, 7580, 8357, 8373, 9187, 9222]\n"
          ],
          "name": "stdout"
        }
      ]
    },
    {
      "metadata": {
        "id": "MNVRZ0Tvf6oY",
        "colab_type": "code",
        "colab": {}
      },
      "cell_type": "code",
      "source": [
        "#Decorador para calcular_tiempo a la función para la cual queremos calcular el tiempo de ejecución(Isabel Vázquez)\n",
        "\n",
        "from time import time\n",
        "#Función para calcular el tiempo de ejecución\n",
        "def calcular_tiempo(f):\n",
        "   \n",
        "    def wrapper(*args, **kwargs):        \n",
        "        inicio = time()       \n",
        "        resultado = f(*args, **kwargs)       \n",
        "        tiempo = time() - inicio\n",
        "        print(\"Tiempo de ejecución para algoritmo: \"+str(tiempo))\n",
        "        return resultado\n",
        "    \n",
        "    return wrapper\n",
        "\n",
        "\n"
      ],
      "execution_count": 0,
      "outputs": []
    },
    {
      "metadata": {
        "id": "x_ZnzjyfjVBh",
        "colab_type": "code",
        "colab": {
          "base_uri": "https://localhost:8080/",
          "height": 34
        },
        "outputId": "74064c4b-2202-46e5-e6fc-0206ab3b681e"
      },
      "cell_type": "code",
      "source": [
        "SISTEMA =[25,10,5,1]\n",
        "def cambio_monedas(C, SISTEMA):\n",
        "  \n",
        "  SOLUCION = [0 for i in range(len(SISTEMA))]\n",
        "  \n",
        "  VALOR_ACUMULADO = 0\n",
        "  \n",
        "  for i in range(len(SISTEMA)):\n",
        "    monedas = int ((C - VALOR_ACUMULADO)/SISTEMA[i])\n",
        "    \n",
        "    SOLUCION[i] = monedas\n",
        "    \n",
        "    VALOR_ACUMULADO += monedas*SISTEMA[i]\n",
        "    \n",
        "    if C == VALOR_ACUMULADO:\n",
        "      return SOLUCION\n",
        "  \n",
        "cambio_monedas(99,SISTEMA)"
      ],
      "execution_count": 21,
      "outputs": [
        {
          "output_type": "execute_result",
          "data": {
            "text/plain": [
              "[3, 2, 0, 4]"
            ]
          },
          "metadata": {
            "tags": []
          },
          "execution_count": 21
        }
      ]
    },
    {
      "metadata": {
        "id": "z0G9JdVhnUdN",
        "colab_type": "code",
        "colab": {}
      },
      "cell_type": "code",
      "source": [
        "N = 4\n",
        "\n",
        "solucion = [O for i in range(N)]\n",
        "etapa = 0\n",
        "\n",
        "\n",
        "def\n",
        "def reinas(N, solucion, etapa):\n",
        "  \n",
        "  if es_prometedora(solucion,etapa):\n",
        "    if etapa == N-1:\n",
        "      print(solucion)\n",
        "    else:\n",
        "      reina(N,solucion,etapa+1)"
      ],
      "execution_count": 0,
      "outputs": []
    }
  ]
}