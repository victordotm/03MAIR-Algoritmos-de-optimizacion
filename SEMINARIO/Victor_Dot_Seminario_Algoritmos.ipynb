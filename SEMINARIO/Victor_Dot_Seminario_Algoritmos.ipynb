{
  "nbformat": 4,
  "nbformat_minor": 0,
  "metadata": {
    "colab": {
      "name": "Copia de Seminario(plantilla) - Algoritmos.ipynb",
      "version": "0.3.2",
      "provenance": [],
      "collapsed_sections": [],
      "include_colab_link": true
    },
    "kernelspec": {
      "name": "python3",
      "display_name": "Python 3"
    }
  },
  "cells": [
    {
      "cell_type": "markdown",
      "metadata": {
        "id": "view-in-github",
        "colab_type": "text"
      },
      "source": [
        "<a href=\"https://colab.research.google.com/github/victordotm/03MAIR-Algoritmos-de-optimizacion/blob/master/SEMINARIO/Victor_Dot_Seminario_Algoritmos.ipynb\" target=\"_parent\"><img src=\"https://colab.research.google.com/assets/colab-badge.svg\" alt=\"Open In Colab\"/></a>"
      ]
    },
    {
      "metadata": {
        "id": "hVbXYX-RfPWh",
        "colab_type": "text"
      },
      "cell_type": "markdown",
      "source": [
        "# Algoritmos de optimización - Seminario<br>\n",
        "Nombre y Apellidos:   <br>\n",
        "Url: https://github.com/.../03MAIR---Algoritmos-de-Optimizacion---2019/tree/master/SEMINARIO<br>\n",
        "Problema:\n",
        "> 1. Elección de grupos de población homogéneos <br>\n",
        ">2. Organizar los horarios de partidos de La Liga<br>\n",
        ">3. Combinar cifras y operaciones\n",
        "\n",
        "Descripción del problema:(copiar enunciado)<br>\n",
        "Problema 3. Combinar cifras y operaciones<br>\n",
        "• El problema consiste en analizar el siguiente problema y diseñar un algoritmo que lo resuelva.<br>\n",
        "• Disponemos de las 9 cifras del 1 al 9 (excluimos el cero) y de los 4 signos básicos de las\n",
        "operaciones fundamentales: suma(+), resta(-), multiplicación(*) y división(/)<br>\n",
        "• Debemos combinarlos alternativamente sin repetir ninguno de ellos para obtener una\n",
        "cantidad dada. <br>\n",
        "\n",
        "Debe analizarse el problema para encontrar todos los valores enteros posibles planteando las\n",
        "siguientes cuestiones:<br>\n",
        "- ¿Qué valor máximo y mínimo a priori se pueden obtener según las condiciones?<br>\n",
        "- ¿Es posible encontrar todos los valores enteros posibles entre dicho mínimo y máximo ?<br>\n",
        "\n",
        "\n",
        "....\n",
        "\n",
        "(*) La respuesta es obligatoria\n",
        "\n",
        "\n",
        "\n",
        "\n",
        "\n",
        "                                        "
      ]
    },
    {
      "metadata": {
        "id": "AiskKkzZfy4e",
        "colab_type": "code",
        "colab": {}
      },
      "cell_type": "code",
      "source": [
        ""
      ],
      "execution_count": 0,
      "outputs": []
    },
    {
      "metadata": {
        "id": "3_-exlrTgLd-",
        "colab_type": "text"
      },
      "cell_type": "markdown",
      "source": [
        "(*)¿Cuantas posibilidades hay sin tener en cuenta las restricciones?<br>\n",
        "\n",
        "\n",
        "\n",
        "¿Cuantas posibilidades hay teniendo en cuenta todas las restricciones.\n",
        "\n",
        "\n"
      ]
    },
    {
      "metadata": {
        "id": "WfCUqJyKhPcw",
        "colab_type": "text"
      },
      "cell_type": "markdown",
      "source": [
        "Respuesta"
      ]
    },
    {
      "metadata": {
        "id": "gKSHb3r_UCOt",
        "colab_type": "text"
      },
      "cell_type": "markdown",
      "source": [
        "¿Cuantas posibilidades hay sin tener en cuenta las restricciones?<br>\n",
        "Como restricciones del problema entendemos: Resultado entero. <br>\n",
        "El resto de condiciones: No repetir números o operadores, no lo entendemos como restricción, por tanto lo tenemos en cuenta para este calculo.<br> <br>\n",
        "Para calcular el número de posibles resultados, usaremos las formulas básicas de combinatoria. <br>\n",
        "El problema consiste en tomar 5 números (de un total de 9) y 4 operadores, y ordenarlos alternativamente. <br>\n",
        "Por simplicidad, dividimos pues el problema en dos sub-problemas de combinatoria básica (el resultado final serà la multiplicación de ambos):<br>\n",
        "\n",
        "\n",
        "1.   Tomar 5 números de un total de 9: <br>\n",
        "Importa el orden (al estar alternados con las operaciones, no es lo mismo sumar un número que dividirlo, restarlo o multiplicarlo, por tanto su posición influye en el resultado final)<br>\n",
        "No se pueden repetir números<br>\n",
        "**Variacion sin repeticion**\n",
        "\n",
        "2.   Ordenar 4 operadores de un total de 4:<br>\n",
        "Importa el orden(no es lo mismo sumar un número que dividirlo, restarlo o multiplicarlo, por tanto su posición influye en el resultado final)<br>\n",
        "No se pueden repetir números<br>\n",
        "**Permutación**\n",
        "\n"
      ]
    },
    {
      "metadata": {
        "id": "iq6Fe32MgpDX",
        "colab_type": "code",
        "colab": {}
      },
      "cell_type": "code",
      "source": [
        ""
      ],
      "execution_count": 0,
      "outputs": []
    },
    {
      "metadata": {
        "id": "dzynfVJahHoY",
        "colab_type": "text"
      },
      "cell_type": "markdown",
      "source": [
        "Modelo para el espacio de soluciones<br>\n",
        "(*) ¿Cual es la estructura de datos que mejor se adapta al problema? Argumentalo.(Es posible que hayas elegido una al principio y veas la necesidad de cambiar, arguentalo)\n"
      ]
    },
    {
      "metadata": {
        "id": "xFIJrOwKi2Ti",
        "colab_type": "text"
      },
      "cell_type": "markdown",
      "source": [
        "Respuesta"
      ]
    },
    {
      "metadata": {
        "id": "38c-7-ejhJmA",
        "colab_type": "code",
        "colab": {}
      },
      "cell_type": "code",
      "source": [
        ""
      ],
      "execution_count": 0,
      "outputs": []
    },
    {
      "metadata": {
        "id": "7Z9U2W7bi-XS",
        "colab_type": "text"
      },
      "cell_type": "markdown",
      "source": [
        "Según el modelo para el espacio de soluciones<br>\n",
        "(*)¿Cual es la función objetivo?\n",
        "\n",
        "(*)¿Es un problema de maximización o minimización?"
      ]
    },
    {
      "metadata": {
        "id": "hBalWLM7j1_d",
        "colab_type": "text"
      },
      "cell_type": "markdown",
      "source": [
        "Respuesta"
      ]
    },
    {
      "metadata": {
        "id": "pDA-rg3Gj5Lz",
        "colab_type": "code",
        "colab": {}
      },
      "cell_type": "code",
      "source": [
        ""
      ],
      "execution_count": 0,
      "outputs": []
    },
    {
      "metadata": {
        "id": "rlnTYgY1j6I2",
        "colab_type": "text"
      },
      "cell_type": "markdown",
      "source": [
        "Diseña un algoritmo para resolver el problema por fuerza bruta"
      ]
    },
    {
      "metadata": {
        "id": "70rDgxYXkC8r",
        "colab_type": "text"
      },
      "cell_type": "markdown",
      "source": [
        "Respuesta"
      ]
    },
    {
      "metadata": {
        "id": "CJb5sQ0qkENy",
        "colab_type": "code",
        "colab": {}
      },
      "cell_type": "code",
      "source": [
        ""
      ],
      "execution_count": 0,
      "outputs": []
    },
    {
      "metadata": {
        "id": "tgrnsC2nkFa8",
        "colab_type": "text"
      },
      "cell_type": "markdown",
      "source": [
        "Calcula la complejidad del algoritmo por fuerza bruta"
      ]
    },
    {
      "metadata": {
        "id": "9eUd3xwckP68",
        "colab_type": "text"
      },
      "cell_type": "markdown",
      "source": [
        "Respuesta"
      ]
    },
    {
      "metadata": {
        "id": "rvZWwL-ckRST",
        "colab_type": "code",
        "colab": {}
      },
      "cell_type": "code",
      "source": [
        ""
      ],
      "execution_count": 0,
      "outputs": []
    },
    {
      "metadata": {
        "id": "txbrmLmskReM",
        "colab_type": "text"
      },
      "cell_type": "markdown",
      "source": [
        "(*)Diseña un algoritmo que mejore la complejidad del algortimo por fuerza bruta. Argumenta porque crees que mejora el algoritmo por fuerza bruta"
      ]
    },
    {
      "metadata": {
        "id": "hLrVwt5QkZPD",
        "colab_type": "text"
      },
      "cell_type": "markdown",
      "source": [
        "Respuesta"
      ]
    },
    {
      "metadata": {
        "id": "m1eyM21Vkabg",
        "colab_type": "code",
        "colab": {}
      },
      "cell_type": "code",
      "source": [
        ""
      ],
      "execution_count": 0,
      "outputs": []
    },
    {
      "metadata": {
        "id": "eGDB4K6uk1iN",
        "colab_type": "text"
      },
      "cell_type": "markdown",
      "source": [
        "(*)Calcula la complejidad del algoritmo "
      ]
    },
    {
      "metadata": {
        "id": "NhpTh_BPk1ms",
        "colab_type": "text"
      },
      "cell_type": "markdown",
      "source": [
        "Respuesta"
      ]
    },
    {
      "metadata": {
        "id": "nREzhkStlCq8",
        "colab_type": "code",
        "colab": {}
      },
      "cell_type": "code",
      "source": [
        ""
      ],
      "execution_count": 0,
      "outputs": []
    },
    {
      "metadata": {
        "id": "3M6QjTsSkmYe",
        "colab_type": "text"
      },
      "cell_type": "markdown",
      "source": [
        "Según el problema (y tenga sentido), diseña un juego de datos de entrada aleatorios"
      ]
    },
    {
      "metadata": {
        "id": "Jc3_OlyNkvjZ",
        "colab_type": "text"
      },
      "cell_type": "markdown",
      "source": [
        "Respuesta"
      ]
    },
    {
      "metadata": {
        "id": "sJ-N2etjkyWc",
        "colab_type": "code",
        "colab": {}
      },
      "cell_type": "code",
      "source": [
        ""
      ],
      "execution_count": 0,
      "outputs": []
    },
    {
      "metadata": {
        "id": "zy5ZROmjlGo1",
        "colab_type": "text"
      },
      "cell_type": "markdown",
      "source": [
        "Aplica el algoritmo al juego de datos generado"
      ]
    },
    {
      "metadata": {
        "id": "_Cmj-PVylMsa",
        "colab_type": "text"
      },
      "cell_type": "markdown",
      "source": [
        "Respuesta"
      ]
    },
    {
      "metadata": {
        "id": "Jkx8GeiYlUz1",
        "colab_type": "code",
        "colab": {}
      },
      "cell_type": "code",
      "source": [
        ""
      ],
      "execution_count": 0,
      "outputs": []
    },
    {
      "metadata": {
        "colab_type": "text",
        "id": "eTFWUJQrtGcv"
      },
      "cell_type": "markdown",
      "source": [
        "Enumera las referencias que has utilizado(si ha sido necesario) para llevar a cabo el trabajo"
      ]
    },
    {
      "metadata": {
        "id": "YKQ_mRBttWsP",
        "colab_type": "text"
      },
      "cell_type": "markdown",
      "source": [
        "Respuesta"
      ]
    },
    {
      "metadata": {
        "id": "kAkDPUyRtYyH",
        "colab_type": "text"
      },
      "cell_type": "markdown",
      "source": [
        "Describe brevemente las lineas de como crees que es posible avanzar en el estudio del problema. Ten en cuenta incluso posibles variaciones del problema y/o variaciones al alza del tamaño"
      ]
    },
    {
      "metadata": {
        "id": "IE0uZmo-tZu-",
        "colab_type": "text"
      },
      "cell_type": "markdown",
      "source": [
        "Respuesta"
      ]
    }
  ]
}